{
 "cells": [
  {
   "cell_type": "code",
   "execution_count": 2,
   "id": "3cc3a724-e149-4284-b578-f6f90b3e86f6",
   "metadata": {},
   "outputs": [
    {
     "name": "stdout",
     "output_type": "stream",
     "text": [
      "Hello, World!\n",
      "[1, 2, 3, 4, 5]\n",
      "3.14\n",
      "(10, 20, 30, 40, 50)\n"
     ]
    }
   ],
   "source": [
    "#Q 1.Create one variable containing following type of data:(i) string (ii) list (iii) float (iv) tuple\n",
    "# ans >>\n",
    "# (i) String\n",
    "my_string = \"Hello, World!\"\n",
    "print(my_string)\n",
    "# (ii) List\n",
    "my_list = [1, 2, 3, 4, 5]\n",
    "print(my_list)\n",
    "# (iii) Float\n",
    "my_float = 3.14\n",
    "print(my_float)\n",
    "# (iv) Tuple\n",
    "my_tuple = (10, 20, 30, 40, 50)\n",
    "print(my_tuple)"
   ]
  },
  {
   "cell_type": "code",
   "execution_count": 5,
   "id": "a8aa8fb8-ae77-4b76-afde-e8c4e2a9ffea",
   "metadata": {},
   "outputs": [
    {
     "name": "stdout",
     "output_type": "stream",
     "text": [
      "<class 'str'>\n",
      "<class 'str'>\n",
      "<class 'list'>\n",
      "<class 'float'>\n"
     ]
    }
   ],
   "source": [
    "#Q 2. Given are some following variables containing data: (i) var1 = '' (ii) var2 = ‘[ DS , ML , Python]’ (iii) var3 = [ ‘DS’ , ’ML’ , ‘Python’ ]\n",
    "# (iv) var4 = 1. What will be the data type of the above given variable.\n",
    "\n",
    "# Ans>>\n",
    "# (i) Empty string\n",
    "var1 = ''\n",
    "print(type(var1))\n",
    "# (ii) String representing a list\n",
    "var2 = '[DS, ML, Python]'\n",
    "print(type(var2))\n",
    "# (iii) List of strings\n",
    "var3 = ['DS', 'ML', 'Python']\n",
    "print(type(var3))\n",
    "# (iv) Float\n",
    "var4 = 1.0\n",
    "print(type(var4))"
   ]
  },
  {
   "cell_type": "code",
   "execution_count": 10,
   "id": "5361bf56-b8c2-461f-8485-54b49921054a",
   "metadata": {},
   "outputs": [
    {
     "name": "stdout",
     "output_type": "stream",
     "text": [
      "3.3333333333333335\n",
      "1\n",
      "3\n",
      "8\n"
     ]
    }
   ],
   "source": [
    "#Q 3.Explain the use of the following operators using an example: (i) / (ii) %  (iii) // (iv) **\n",
    "\n",
    "# Ans>> \n",
    "result = 10 / 3\n",
    "print(result) \n",
    "\n",
    "remainder = 10 % 3\n",
    "print(remainder) \n",
    "\n",
    "result = 10 // 3\n",
    "print(result) \n",
    "\n",
    "result = 2 ** 3\n",
    "print(result)  "
   ]
  },
  {
   "cell_type": "code",
   "execution_count": 11,
   "id": "24119eba-723e-4973-9757-b0412db7d378",
   "metadata": {},
   "outputs": [
    {
     "name": "stdout",
     "output_type": "stream",
     "text": [
      "Element: 1 \tData Type: <class 'int'>\n",
      "Element: Hello \tData Type: <class 'str'>\n",
      "Element: 3.14 \tData Type: <class 'float'>\n",
      "Element: True \tData Type: <class 'bool'>\n",
      "Element: [1, 2, 3] \tData Type: <class 'list'>\n",
      "Element: {'a': 1, 'b': 2} \tData Type: <class 'dict'>\n",
      "Element: (4, 5, 6) \tData Type: <class 'tuple'>\n",
      "Element: None \tData Type: <class 'NoneType'>\n",
      "Element: Python \tData Type: <class 'str'>\n",
      "Element: 10 \tData Type: <class 'int'>\n"
     ]
    }
   ],
   "source": [
    "# Q 4. Create a list of length 10 of your choice containing multiple types of data. Using for loop print the element and its data type.\n",
    "# Ans>>\n",
    "my_list = [1, \"Hello\", 3.14, True, [1, 2, 3], {'a': 1, 'b': 2}, (4, 5, 6), None, \"Python\", 10]\n",
    "\n",
    "for element in my_list:\n",
    "    print(\"Element:\", element, \"\\tData Type:\", type(element))\n"
   ]
  },
  {
   "cell_type": "code",
   "execution_count": 13,
   "id": "85731d0d-362c-4fcd-a43c-e7f21e06136c",
   "metadata": {},
   "outputs": [
    {
     "name": "stdin",
     "output_type": "stream",
     "text": [
      "Enter number A:  50\n",
      "Enter number B:  25\n"
     ]
    },
    {
     "name": "stdout",
     "output_type": "stream",
     "text": [
      "2.0 is divisible by 25 1 times\n"
     ]
    }
   ],
   "source": [
    "# Q Q5. Using a while loop, verify if the number A is purely divisible by number B and if so then how many times it can be divisible.\n",
    "# Ans>>\n",
    "# Taking input for A and B\n",
    "A = int(input(\"Enter number A: \"))\n",
    "B = int(input(\"Enter number B: \"))\n",
    "count = 0\n",
    "while A % B == 0:\n",
    "    A /= B\n",
    "    count += 1\n",
    "if count == 0:\n",
    "    print(f\"{A} is not divisible by {B}\")\n",
    "else:\n",
    "    print(f\"{A} is divisible by {B} {count} times\")\n"
   ]
  },
  {
   "cell_type": "code",
   "execution_count": 14,
   "id": "5621e134-155e-4cc2-8c64-22f0782b44e8",
   "metadata": {},
   "outputs": [
    {
     "name": "stdout",
     "output_type": "stream",
     "text": [
      "1 is not divisible by 3\n",
      "2 is not divisible by 3\n",
      "3 is divisible by 3\n",
      "4 is not divisible by 3\n",
      "5 is not divisible by 3\n",
      "6 is divisible by 3\n",
      "7 is not divisible by 3\n",
      "8 is not divisible by 3\n",
      "9 is divisible by 3\n",
      "10 is not divisible by 3\n",
      "11 is not divisible by 3\n",
      "12 is divisible by 3\n",
      "13 is not divisible by 3\n",
      "14 is not divisible by 3\n",
      "15 is divisible by 3\n",
      "16 is not divisible by 3\n",
      "17 is not divisible by 3\n",
      "18 is divisible by 3\n",
      "19 is not divisible by 3\n",
      "20 is not divisible by 3\n",
      "21 is divisible by 3\n",
      "22 is not divisible by 3\n",
      "23 is not divisible by 3\n",
      "24 is divisible by 3\n",
      "25 is not divisible by 3\n"
     ]
    }
   ],
   "source": [
    "# Q6. Create a list containing 25 int type data. Using for loop and if-else condition print if the element is divisible by 3 or not.\n",
    "# Ans>.\n",
    "my_list = [i for i in range(1, 26)]\n",
    "for num in my_list:\n",
    "    if num % 3 == 0:\n",
    "        print(f\"{num} is divisible by 3\")\n",
    "    else:\n",
    "        print(f\"{num} is not divisible by 3\")\n"
   ]
  },
  {
   "cell_type": "code",
   "execution_count": 16,
   "id": "9e09b3ec-21bc-4328-a44c-86facc344009",
   "metadata": {},
   "outputs": [
    {
     "name": "stdout",
     "output_type": "stream",
     "text": [
      "Original value of x: 10\n",
      "Modified value of x: 15\n",
      "Original value of x after modification attempt: 15\n",
      "Original list: [1, 2, 3]\n",
      "Modified list: [1, 2, 3, 4]\n",
      "Original list after modification: [1, 2, 3, 4]\n"
     ]
    }
   ],
   "source": [
    "# Q7. What do you understand about mutable and immutable data types? Give examples for both showing this property.\n",
    "# Ans>>\n",
    "\n",
    "# Mutable and immutable are terms used to describe whether an object's state can be changed after it is created.\n",
    "\n",
    "# Immutable objects: Once created, these objects cannot be modified. If you attempt to modify them, a new object is created instead\n",
    "# Examples of immutable data types in Python include integers, floats, strings, tuples, and frozens\n",
    "\n",
    "# Example with integer (immutable)\n",
    "x = 10\n",
    "print(\"Original value of x:\", x)\n",
    "x += 5\n",
    "print(\"Modified value of x:\", x) \n",
    "print(\"Original value of x after modification attempt:\", x) \n",
    "\n",
    "# Example with list (mutable)\n",
    "my_list = [1, 2, 3]\n",
    "print(\"Original list:\", my_list)\n",
    "my_list.append(4)\n",
    "print(\"Modified list:\", my_list)  \n",
    "print(\"Original list after modification:\", my_list) \n",
    "\n"
   ]
  },
  {
   "cell_type": "code",
   "execution_count": null,
   "id": "12c68e81-4636-41f6-b830-a0d5dad0c90b",
   "metadata": {},
   "outputs": [],
   "source": []
  }
 ],
 "metadata": {
  "kernelspec": {
   "display_name": "Python 3 (ipykernel)",
   "language": "python",
   "name": "python3"
  },
  "language_info": {
   "codemirror_mode": {
    "name": "ipython",
    "version": 3
   },
   "file_extension": ".py",
   "mimetype": "text/x-python",
   "name": "python",
   "nbconvert_exporter": "python",
   "pygments_lexer": "ipython3",
   "version": "3.10.8"
  }
 },
 "nbformat": 4,
 "nbformat_minor": 5
}
